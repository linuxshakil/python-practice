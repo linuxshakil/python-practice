{
 "cells": [
  {
   "cell_type": "code",
   "execution_count": null,
   "id": "05a0dd13-5505-468b-8e60-a0c311879828",
   "metadata": {},
   "outputs": [],
   "source": [
    "Understanding variables\n"
   ]
  },
  {
   "cell_type": "code",
   "execution_count": null,
   "id": "0b50acdd-35d3-47e9-a6f7-c6927ea8c72c",
   "metadata": {},
   "outputs": [],
   "source": [
    "Rule no.1: No spaces are allowed in variable names.\n",
    "For example, my name = \"shakil\" is incorrect syntax."
   ]
  },
  {
   "cell_type": "code",
   "execution_count": 1,
   "id": "96fd9b73-e133-40cc-a890-0535678a2fae",
   "metadata": {},
   "outputs": [
    {
     "ename": "SyntaxError",
     "evalue": "invalid syntax (993284674.py, line 1)",
     "output_type": "error",
     "traceback": [
      "\u001b[1;36m  Cell \u001b[1;32mIn[1], line 1\u001b[1;36m\u001b[0m\n\u001b[1;33m    my name = \"shakil\"\u001b[0m\n\u001b[1;37m       ^\u001b[0m\n\u001b[1;31mSyntaxError\u001b[0m\u001b[1;31m:\u001b[0m invalid syntax\n"
     ]
    }
   ],
   "source": [
    "my name = \"shakil\" "
   ]
  },
  {
   "cell_type": "code",
   "execution_count": 2,
   "id": "c0123dd2-98d5-43b4-ac1d-443d6cdfe7ef",
   "metadata": {},
   "outputs": [
    {
     "name": "stdout",
     "output_type": "stream",
     "text": [
      "shakil\n"
     ]
    }
   ],
   "source": [
    "#Correct syntax\n",
    "my_name = \"shakil\"\n",
    "print (my_name)"
   ]
  },
  {
   "cell_type": "code",
   "execution_count": null,
   "id": "fc756a77-eb01-4a63-a717-9118be622ab7",
   "metadata": {},
   "outputs": [],
   "source": [
    "Rule 2: Variable names should not start with a number.\n",
    "For example, 1name = \"shakil\" is invalid syntax.\n"
   ]
  },
  {
   "cell_type": "code",
   "execution_count": 3,
   "id": "709ea83d-834d-4d9c-b9eb-91e426d563d0",
   "metadata": {},
   "outputs": [
    {
     "ename": "SyntaxError",
     "evalue": "invalid decimal literal (2653369322.py, line 1)",
     "output_type": "error",
     "traceback": [
      "\u001b[1;36m  Cell \u001b[1;32mIn[3], line 1\u001b[1;36m\u001b[0m\n\u001b[1;33m    1name = \"shakil\"\u001b[0m\n\u001b[1;37m    ^\u001b[0m\n\u001b[1;31mSyntaxError\u001b[0m\u001b[1;31m:\u001b[0m invalid decimal literal\n"
     ]
    }
   ],
   "source": [
    "1name = \"shakil\""
   ]
  },
  {
   "cell_type": "code",
   "execution_count": 5,
   "id": "967742d0-bd04-45c2-9e2c-b6e8f08510d4",
   "metadata": {},
   "outputs": [
    {
     "name": "stdout",
     "output_type": "stream",
     "text": [
      "shakil\n"
     ]
    }
   ],
   "source": [
    "#Correct Syntax \n",
    "name1 = \"shakil\"\n",
    "print (name1)"
   ]
  },
  {
   "cell_type": "code",
   "execution_count": null,
   "id": "fc42aa94-d15d-44f6-9941-9b29b046fd6f",
   "metadata": {},
   "outputs": [],
   "source": [
    "Rule 3: Variable names should not contain special characters like @, #, $, %, etc.\n",
    "For example, na@me = \"shakil\" is invalid syntax."
   ]
  },
  {
   "cell_type": "code",
   "execution_count": 6,
   "id": "6ede135d-4693-4b19-a6fe-b8bb6d3cbb92",
   "metadata": {},
   "outputs": [
    {
     "ename": "SyntaxError",
     "evalue": "cannot assign to expression here. Maybe you meant '==' instead of '='? (2257213595.py, line 1)",
     "output_type": "error",
     "traceback": [
      "\u001b[1;36m  Cell \u001b[1;32mIn[6], line 1\u001b[1;36m\u001b[0m\n\u001b[1;33m    na@me = \"shakil\"\u001b[0m\n\u001b[1;37m    ^\u001b[0m\n\u001b[1;31mSyntaxError\u001b[0m\u001b[1;31m:\u001b[0m cannot assign to expression here. Maybe you meant '==' instead of '='?\n"
     ]
    }
   ],
   "source": [
    "na@me = \"shakil\" "
   ]
  },
  {
   "cell_type": "code",
   "execution_count": 8,
   "id": "dfad79d0-b4e8-4ad1-99e1-c76d3c4055fa",
   "metadata": {},
   "outputs": [
    {
     "name": "stdout",
     "output_type": "stream",
     "text": [
      "shakil\n"
     ]
    }
   ],
   "source": [
    "#Correct Syntax\n",
    "name_123 = \"shakil\"\n",
    "print (name_123)"
   ]
  },
  {
   "cell_type": "code",
   "execution_count": null,
   "id": "4830309a-e524-4296-b0ea-6ce51cd923df",
   "metadata": {},
   "outputs": [],
   "source": [
    "#Data Types in Python:\n",
    "String (str) – A sequence of characters (e.g., \"hello\")\n",
    "\n",
    "Integer (int) – Whole numbers (e.g., 42)\n",
    "\n",
    "Float (float) – Numbers with decimal points (e.g., 3.14)\n",
    "\n",
    "List (list) – Ordered. changeable collection (e.g., [1, 2, 3])\n",
    "\n",
    "Tuple (tuple) – Ordered. unchangeable collection (e.g., (1, 2, 3))\n",
    "\n",
    "Dictionary (dict) – Key-value pairs (e.g., {\"name\": \"shakil\"})"
   ]
  },
  {
   "cell_type": "code",
   "execution_count": null,
   "id": "c871ff2e-28e7-4e66-bfcc-550a551a74b6",
   "metadata": {},
   "outputs": [],
   "source": [
    "#Note:- Python is a case-sensitive programming language\n",
    "name = \"Shakil\"\n",
    "Name = \"AhmaD\"\n",
    "print(name)  # Shakil\n",
    "print(Name)  # AhmaD"
   ]
  },
  {
   "cell_type": "code",
   "execution_count": null,
   "id": "19b2dc66-c20a-42c8-8885-498554304564",
   "metadata": {},
   "outputs": [],
   "source": [
    "#Classification of Data Type: String (str)\n",
    "\n",
    "You can use single (' ') or double (\" \") quotes. There is no difference between them.\n"
   ]
  },
  {
   "cell_type": "code",
   "execution_count": 11,
   "id": "e3f96a35-27ae-4d1d-ba6f-78afe9a7737f",
   "metadata": {},
   "outputs": [
    {
     "data": {
      "text/plain": [
       "str"
      ]
     },
     "execution_count": 11,
     "metadata": {},
     "output_type": "execute_result"
    }
   ],
   "source": [
    "name = \"Shakil\"\n",
    "type (name)"
   ]
  },
  {
   "cell_type": "code",
   "execution_count": 12,
   "id": "e9c090c6-dc57-4631-8207-7c2b0b1a49f2",
   "metadata": {},
   "outputs": [
    {
     "name": "stdout",
     "output_type": "stream",
     "text": [
      "shakil ahmad\n"
     ]
    }
   ],
   "source": [
    "fullname = \"shakil ahmad\"\n",
    "print (fullname)"
   ]
  },
  {
   "cell_type": "code",
   "execution_count": 13,
   "id": "fa7e6d12-79fc-47a7-8314-95f8bea219f9",
   "metadata": {},
   "outputs": [
    {
     "name": "stdout",
     "output_type": "stream",
     "text": [
      "Shakil Ahmad\n"
     ]
    }
   ],
   "source": [
    "print (fullname.title())"
   ]
  },
  {
   "cell_type": "code",
   "execution_count": 14,
   "id": "47bcbbcf-b719-488d-b76d-71d4e093af30",
   "metadata": {},
   "outputs": [
    {
     "name": "stdout",
     "output_type": "stream",
     "text": [
      "SHAKIL AHMAD\n"
     ]
    }
   ],
   "source": [
    "print (fullname.upper())"
   ]
  },
  {
   "cell_type": "code",
   "execution_count": 15,
   "id": "930c80db-835f-479c-bf0a-3872334fef6e",
   "metadata": {},
   "outputs": [
    {
     "name": "stdout",
     "output_type": "stream",
     "text": [
      "shakil ahmad\n"
     ]
    }
   ],
   "source": [
    "print (fullname.lower())"
   ]
  },
  {
   "cell_type": "code",
   "execution_count": null,
   "id": "c3556635-402b-438f-911b-3b5fad2b5ab0",
   "metadata": {},
   "outputs": [],
   "source": []
  }
 ],
 "metadata": {
  "kernelspec": {
   "display_name": "Python [conda env:base] *",
   "language": "python",
   "name": "conda-base-py"
  },
  "language_info": {
   "codemirror_mode": {
    "name": "ipython",
    "version": 3
   },
   "file_extension": ".py",
   "mimetype": "text/x-python",
   "name": "python",
   "nbconvert_exporter": "python",
   "pygments_lexer": "ipython3",
   "version": "3.13.5"
  }
 },
 "nbformat": 4,
 "nbformat_minor": 5
}
