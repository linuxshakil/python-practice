{
 "cells": [
  {
   "cell_type": "code",
   "execution_count": 1,
   "id": "16559d5e-600d-4be9-ba60-e5c0c98d769a",
   "metadata": {},
   "outputs": [
    {
     "name": "stdout",
     "output_type": "stream",
     "text": [
      "Hello This my first python class\n"
     ]
    }
   ],
   "source": [
    "print (\"Hello This my first python class\")"
   ]
  },
  {
   "cell_type": "code",
   "execution_count": null,
   "id": "744e811a-5bfa-4912-9a00-dab8dcd0c549",
   "metadata": {},
   "outputs": [],
   "source": []
  }
 ],
 "metadata": {
  "kernelspec": {
   "display_name": "Python 3 (ipykernel)",
   "language": "python",
   "name": "python3"
  },
  "language_info": {
   "codemirror_mode": {
    "name": "ipython",
    "version": 3
   },
   "file_extension": ".py",
   "mimetype": "text/x-python",
   "name": "python",
   "nbconvert_exporter": "python",
   "pygments_lexer": "ipython3",
   "version": "3.13.5"
  }
 },
 "nbformat": 4,
 "nbformat_minor": 5
}
